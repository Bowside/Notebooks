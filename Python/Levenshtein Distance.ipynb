{
    "metadata": {
        "kernelspec": {
            "name": "python3",
            "display_name": "Python 3",
            "language": "python"
        },
        "language_info": {
            "name": "python",
            "version": "3.11.7",
            "mimetype": "text/x-python",
            "codemirror_mode": {
                "name": "ipython",
                "version": 3
            },
            "pygments_lexer": "ipython3",
            "nbconvert_exporter": "python",
            "file_extension": ".py"
        }
    },
    "nbformat_minor": 2,
    "nbformat": 4,
    "cells": [
        {
            "cell_type": "code",
            "source": [
                "def levenshtein_distance(str1, str2):\r\n",
                "  \"\"\"Calculates the Levenshtein distance between two strings.\r\n",
                "\r\n",
                "  Args:\r\n",
                "    str1: The first string.\r\n",
                "    str2: The second string.\r\n",
                "\r\n",
                "  Returns:\r\n",
                "    The Levenshtein distance between the two strings.\r\n",
                "  \"\"\"\r\n",
                "\r\n",
                "  if len(str1) == 0:\r\n",
                "    return len(str2)\r\n",
                "  elif len(str2) == 0:\r\n",
                "    return len(str1)\r\n",
                "\r\n",
                "  table = [[0 for _ in range(len(str2) + 1)] for _ in range(len(str1) + 1)]\r\n",
                "\r\n",
                "  for i in range(len(str1) + 1):\r\n",
                "    for j in range(len(str2) + 1):\r\n",
                "      if i == 0:\r\n",
                "        table[i][j] = j\r\n",
                "      elif j == 0:\r\n",
                "        table[i][j] = i\r\n",
                "      elif str1[i - 1] == str2[j - 1]:\r\n",
                "        table[i][j] = table[i - 1][j - 1]\r\n",
                "      else:\r\n",
                "        table[i][j] = 1 + min(table[i - 1][j], table[i][j - 1], table[i - 1][j - 1])\r\n",
                "\r\n",
                "  return table[len(str1)][len(str2)]\r\n",
                "\r\n",
                "\r\n",
                "def fuzzy_map(str1, str2):\r\n",
                "  \"\"\"Finds the closest match between two strings, even if they are not exactly the same.\r\n",
                "\r\n",
                "  Args:\r\n",
                "    str1: The first string.\r\n",
                "    str2: The second string.\r\n",
                "\r\n",
                "  Returns:\r\n",
                "    The closest match between the two strings.\r\n",
                "  \"\"\"\r\n",
                "\r\n",
                "  matches = []\r\n",
                "\r\n",
                "  for i in range(len(str2) + 1):\r\n",
                "    matches.append((levenshtein_distance(str1, str2[:i]), str2[:i]))\r\n",
                "\r\n",
                "  matches.sort()\r\n",
                "\r\n",
                "  return matches[0][1]\r\n",
                "\r\n",
                "fuzzy_map('Dillon', 'Mary')"
            ],
            "metadata": {
                "azdata_cell_guid": "66ee2432-74fd-4835-9d10-29be6f1709bb",
                "language": "python"
            },
            "outputs": [],
            "execution_count": null
        }
    ]
}