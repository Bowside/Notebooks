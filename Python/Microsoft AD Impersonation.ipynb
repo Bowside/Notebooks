{
    "metadata": {
        "kernelspec": {
            "name": "python3",
            "display_name": "Python 3",
            "language": "python"
        },
        "language_info": {
            "name": "python",
            "version": "3.11.7",
            "mimetype": "text/x-python",
            "codemirror_mode": {
                "name": "ipython",
                "version": 3
            },
            "pygments_lexer": "ipython3",
            "nbconvert_exporter": "python",
            "file_extension": ".py"
        }
    },
    "nbformat_minor": 2,
    "nbformat": 4,
    "cells": [
        {
            "cell_type": "markdown",
            "source": [
                "Use this technique to impersonate a user before connecting to a service that uses Microsoft AD authentication"
            ],
            "metadata": {
                "language": "python",
                "azdata_cell_guid": "c659c2c9-4f26-47a7-bf6c-6404d28d4d93"
            },
            "attachments": {}
        },
        {
            "cell_type": "code",
            "source": [
                "import pandas\r\n",
                "import json\r\n",
                "import win32security, win32con, win32.win32api , win32 ,win32.win32security\r\n",
                "import pyodbc\r\n",
                "\r\n",
                "# Need this to personate a user\r\n",
                "class Impersonate:\r\n",
                "    def __init__(self, domain, login, password):\r\n",
                "        self.domain = domain\r\n",
                "        self.login = login\r\n",
                "        self.password = password\r\n",
                " \r\n",
                "    def logon(self):\r\n",
                "        self.handle = win32.win32security.LogonUser(self.login, self.domain,self.password,win32con.LOGON32_LOGON_INTERACTIVE,win32con.LOGON32_PROVIDER_DEFAULT)\r\n",
                "        win32.win32security.ImpersonateLoggedOnUser(self.handle)\r\n",
                " \r\n",
                "    def logoff(self):\r\n",
                "        win32security.RevertToSelf() # terminates impersonation\r\n",
                "        self.handle.Close() # guarantees cleanup\r\n",
                " \r\n",
                "a = Impersonate('your domain', 'your user','your password')\r\n",
                "# Logging in\r\n",
                "a.logon()\r\n",
                " \r\n",
                "#SQL Server\r\n",
                "sqlserver = 'tcp:your sql server' \r\n",
                "sqlconnection = pyodbc.connect('DRIVER={ODBC Driver 17 for SQL Server};SERVER='+sqlserver+';trusted_connection=yes')\r\n",
                "sqlquery = 'SELECT GETDATE()'\r\n",
                "try:\r\n",
                "    \r\n",
                "    print(f'Debug: {sqlquery}')\r\n",
                "    pandas.read_sql_query(sqlquery, sqlconnection)\r\n",
                "    \r\n",
                "except Exception as err:\r\n",
                "    print(f\"Error: {err}\")\r\n",
                "finally:\r\n",
                "    sqlconnection.close()\r\n",
                "    # since we done on the server we can logoff\r\n",
                "    Impersonate.logoff(a)\r\n",
                "\r\n",
                "print('Done!')\r\n",
                ""
            ],
            "metadata": {
                "azdata_cell_guid": "8e63f91a-1788-4037-b896-15de6c0ac110",
                "language": "python"
            },
            "outputs": [],
            "execution_count": null
        }
    ]
}