{
    "metadata": {
        "kernelspec": {
            "name": "SQL",
            "display_name": "SQL",
            "language": "sql"
        },
        "language_info": {
            "name": "sql",
            "version": ""
        }
    },
    "nbformat_minor": 2,
    "nbformat": 4,
    "cells": [
        {
            "cell_type": "markdown",
            "source": [
                "Create a Linked-Server for Active Directory Queries\n",
                "\n",
                "- Server must be running on the domain\n",
                "- Server must be running with credentials that can read the domain"
            ],
            "metadata": {
                "azdata_cell_guid": "3ec5161c-5aa9-401b-b722-5dd6c0efe44d"
            },
            "attachments": {}
        },
        {
            "cell_type": "code",
            "source": [
                "USE [master]\r\n",
                "GO\r\n",
                "\r\n",
                "/****** Object:  LinkedServer [ADSI]    Script Date: 06/12/2018 11:45:38 AM ******/\r\n",
                "EXEC master.dbo.sp_addlinkedserver @server = N'ADSI', @srvproduct=N'Active Directory Service Interfaces', @provider=N'ADSDSOObject', @datasrc=N'adsdatasource'\r\n",
                " /* For security reasons the linked server remote logins password is changed with ######## */\r\n",
                "EXEC master.dbo.sp_addlinkedsrvlogin @rmtsrvname=N'ADSI',@useself=N'True',@locallogin=NULL,@rmtuser=NULL,@rmtpassword=NULL\r\n",
                "GO\r\n",
                "\r\n",
                "EXEC master.dbo.sp_serveroption @server=N'ADSI', @optname=N'collation compatible', @optvalue=N'false'\r\n",
                "GO\r\n",
                "\r\n",
                "EXEC master.dbo.sp_serveroption @server=N'ADSI', @optname=N'data access', @optvalue=N'true'\r\n",
                "GO\r\n",
                "\r\n",
                "EXEC master.dbo.sp_serveroption @server=N'ADSI', @optname=N'dist', @optvalue=N'false'\r\n",
                "GO\r\n",
                "\r\n",
                "EXEC master.dbo.sp_serveroption @server=N'ADSI', @optname=N'pub', @optvalue=N'false'\r\n",
                "GO\r\n",
                "\r\n",
                "EXEC master.dbo.sp_serveroption @server=N'ADSI', @optname=N'rpc', @optvalue=N'false'\r\n",
                "GO\r\n",
                "\r\n",
                "EXEC master.dbo.sp_serveroption @server=N'ADSI', @optname=N'rpc out', @optvalue=N'false'\r\n",
                "GO\r\n",
                "\r\n",
                "EXEC master.dbo.sp_serveroption @server=N'ADSI', @optname=N'sub', @optvalue=N'false'\r\n",
                "GO\r\n",
                "\r\n",
                "EXEC master.dbo.sp_serveroption @server=N'ADSI', @optname=N'connect timeout', @optvalue=N'0'\r\n",
                "GO\r\n",
                "\r\n",
                "EXEC master.dbo.sp_serveroption @server=N'ADSI', @optname=N'collation name', @optvalue=NULL\r\n",
                "GO\r\n",
                "\r\n",
                "EXEC master.dbo.sp_serveroption @server=N'ADSI', @optname=N'lazy schema validation', @optvalue=N'false'\r\n",
                "GO\r\n",
                "\r\n",
                "EXEC master.dbo.sp_serveroption @server=N'ADSI', @optname=N'query timeout', @optvalue=N'0'\r\n",
                "GO\r\n",
                "\r\n",
                "EXEC master.dbo.sp_serveroption @server=N'ADSI', @optname=N'use remote collation', @optvalue=N'true'\r\n",
                "GO\r\n",
                "\r\n",
                "EXEC master.dbo.sp_serveroption @server=N'ADSI', @optname=N'remote proc transaction promotion', @optvalue=N'true'\r\n",
                "GO"
            ],
            "metadata": {
                "azdata_cell_guid": "8a4ce7a1-0b2f-48b8-b8f6-a15db576bee0",
                "language": "sql",
                "tags": [
                    "hide_input"
                ]
            },
            "outputs": [],
            "execution_count": null
        },
        {
            "cell_type": "markdown",
            "source": [
                "Query the Linked-Server"
            ],
            "metadata": {
                "language": "sql",
                "azdata_cell_guid": "51070dcc-35a6-4fae-b26f-fdb00995382e"
            },
            "attachments": {}
        },
        {
            "cell_type": "code",
            "source": [
                "DECLARE @group NVARCHAR(128) = 'AD Security Group'\r\n",
                "DECLARE @DC1 NVARCHAR(128) = 'Your Domain - so google'\r\n",
                "DECLARE @DC2 NVARCHAR(128) = 'Your top level domain - so com'\r\n",
                "\r\n",
                "DECLARE @SQL NVARCHAR(MAX)\r\n",
                "DECLARE @group_dn NVARCHAR(512)\r\n",
                "DECLARE @result TABLE(name NVARCHAR(512))\r\n",
                "\r\n",
                "--Get the actual group name\r\n",
                "SET @SQL = \r\n",
                "'SELECT distinguishedName\r\n",
                "FROM OPENQUERY\r\n",
                "(ADSI,''SELECT cn, distinguishedName, dc\r\n",
                "FROM ''''LDAP://' + @DC1 + '.' + @DC2 + '/DC=' + @DC1 + ',DC=' + @DC2 + '''''\r\n",
                "WHERE objectCategory = ''''group'''' AND cn = ''''' + @group + ''''''')'\r\n",
                "\r\n",
                "--PRINT @SQL\r\n",
                "INSERT @result(name)\r\n",
                "EXEC sp_executesql @SQL\r\n",
                "SELECT @group_dn = name FROM @result\r\n",
                "\r\n",
                "\r\n",
                "--https://ldapwiki.com/wiki/1.2.840.113556.1.4.1941\r\n",
                "SET @SQL =\r\n",
                "'SELECT *\r\n",
                "FROM OPENQUERY (ADSI, ''<LDAP://' + @DC1 + '.' + @DC2 + '>;\r\n",
                "(&(objectCategory=person)(memberOf:1.2.840.113556.1.4.1941:=' + @group_dn + '));\r\n",
                "cn, sAMAccountName,mail;subtree'')\r\n",
                "ORDER BY cn;'\r\n",
                "\r\n",
                "--PRINT @SQL\r\n",
                "EXEC sp_executesql @SQL"
            ],
            "metadata": {
                "language": "sql",
                "azdata_cell_guid": "2776f5c7-49de-40e4-88f4-e93845026da9"
            },
            "outputs": [],
            "execution_count": null
        }
    ]
}