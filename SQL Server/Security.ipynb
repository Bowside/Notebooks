{
    "metadata": {
        "kernelspec": {
            "name": "SQL",
            "display_name": "SQL",
            "language": "sql"
        },
        "language_info": {
            "name": "sql",
            "version": ""
        }
    },
    "nbformat_minor": 2,
    "nbformat": 4,
    "cells": [
        {
            "cell_type": "markdown",
            "source": [
                "List users and roles they are mapped to"
            ],
            "metadata": {
                "azdata_cell_guid": "130b67ed-866c-4319-af0c-34afc59d8ab4"
            },
            "attachments": {}
        },
        {
            "cell_type": "code",
            "source": [
                "DECLARE @DB_USers TABLE\r\n",
                "(DBName sysname, UserName sysname, LoginType sysname, AssociatedRole varchar(max),create_date datetime,modify_date datetime)\r\n",
                "\r\n",
                "INSERT @DB_USers\r\n",
                "EXEC sp_MSforeachdb\r\n",
                "\r\n",
                "'\r\n",
                "use [?]\r\n",
                "SELECT ''?'' AS DB_Name,\r\n",
                "case prin.name when ''dbo'' then prin.name + '' (''+ (select SUSER_SNAME(owner_sid) from master.sys.databases where name =''?'') + '')'' else prin.name end AS UserName,\r\n",
                "prin.type_desc AS LoginType,\r\n",
                "isnull(USER_NAME(mem.role_principal_id),'''') AS AssociatedRole ,create_date,modify_date\r\n",
                "FROM sys.database_principals prin\r\n",
                "LEFT OUTER JOIN sys.database_role_members mem ON prin.principal_id=mem.member_principal_id\r\n",
                "WHERE prin.sid IS NOT NULL and prin.sid NOT IN (0x00) and\r\n",
                "prin.is_fixed_role <> 1 AND prin.name NOT LIKE ''##%'''\r\n",
                "\r\n",
                "SELECT\r\n",
                "\r\n",
                "dbname,username ,logintype ,create_date ,modify_date ,AssociatedRole\r\n",
                "\r\n",
                "FROM @DB_USers \r\n",
                ""
            ],
            "metadata": {
                "azdata_cell_guid": "3ac547c5-170d-4532-8c9f-96bafb213aeb",
                "language": "sql",
                "tags": []
            },
            "outputs": [],
            "execution_count": null
        },
        {
            "cell_type": "markdown",
            "source": [
                "Row-Level security example"
            ],
            "metadata": {
                "language": "sql",
                "azdata_cell_guid": "764a1eae-2377-4428-8274-3662a0a94018"
            },
            "attachments": {}
        },
        {
            "cell_type": "code",
            "source": [
                "--*******************\r\n",
                "--Row Level Security\r\n",
                "--*******************\r\n",
                "--Show no security\r\n",
                "SELECT *\r\n",
                "FROM [DataWarehouse].[DimCountry_SecurityDemo]\r\n",
                "\r\n",
                "SELECT *\r\n",
                "FROM DataWarehouse.FactAnnualBudget\r\n",
                "\r\n",
                "SELECT  *\r\n",
                "FROM DataWarehouse.FactVaR\r\n",
                "WHERE COBDateId = 20170201\r\n",
                "\r\n",
                "--Apply Security\r\n",
                "CREATE FUNCTION dbo.LimitCountryAccess(@CountryId Int)\r\n",
                "RETURNS TABLE\r\n",
                "WITH SCHEMABINDING\r\n",
                "AS\r\n",
                "  RETURN \r\n",
                "  (\r\n",
                "    SELECT [Go] = 1 FROM [DataWarehouse].[DimCountry_SecurityDemo]\r\n",
                "      WHERE \r\n",
                "      (\r\n",
                "\t    [DimCountryId] = @CountryId\r\n",
                "        AND IS_MEMBER([Security]) = 1\r\n",
                "\t) --OR IS_SRVROLEMEMBER(N'sysadmin') = 1\r\n",
                "  );\r\n",
                "GO\r\n",
                "\r\n",
                "CREATE SECURITY POLICY CountryPolicy\r\n",
                "ADD FILTER PREDICATE dbo.LimitCountryAccess([DimCountryId]) ON [DataWarehouse].[DimCountry_SecurityDemo]\r\n",
                ",ADD FILTER PREDICATE dbo.LimitCountryAccess([CountryId]) ON [DataWarehouse].[FactAnnualBudget]\r\n",
                ",ADD FILTER PREDICATE dbo.LimitCountryAccess([CountryId]) ON [DataWarehouse].[FactVaR]\r\n",
                "WITH (STATE = ON);\r\n",
                "\r\n",
                "--Show that security is applied\r\n",
                "SELECT *\r\n",
                "FROM [DataWarehouse].[DimCountry_SecurityDemo]\r\n",
                "\r\n",
                "SELECT *\r\n",
                "FROM DataWarehouse.FactAnnualBudget\r\n",
                "\r\n",
                "SELECT  *\r\n",
                "FROM DataWarehouse.FactVaR\r\n",
                "WHERE COBDateId = 20170201\r\n",
                "\r\n",
                "--Cleanup\r\n",
                "DROP SECURITY POLICY [SCMBNT1\\CIBR_CR_Report Group].[CountryPolicy]\r\n",
                "DROP FUNCTION dbo.LimitCountryAccess\r\n",
                "\r\n",
                "--************\r\n",
                "--Data Masking\r\n",
                "--************\r\n",
                "--Add Mask\r\n",
                "ALTER TABLE [DataWarehouse].[DimCountry_SecurityDemo]\r\n",
                "ALTER COLUMN Country ADD MASKED WITH (FUNCTION = 'default()');\r\n",
                "\r\n",
                "--I'm dbo so I can see\r\n",
                "SELECT *\r\n",
                "FROM [DataWarehouse].[DimCountry_SecurityDemo]\r\n",
                "\r\n",
                "CREATE USER Test WITHOUT LOGIN;\r\n",
                "GRANT SELECT ON [DataWarehouse].[DimCountry_SecurityDemo] TO Test;\r\n",
                "EXECUTE AS USER = 'Test';\r\n",
                "SELECT * FROM [DataWarehouse].[DimCountry_SecurityDemo];\r\n",
                "REVERT\r\n",
                "\r\n",
                "GRANT UNMASK TO Test;\r\n",
                "EXECUTE AS USER = 'Test';\r\n",
                "SELECT * FROM [DataWarehouse].[DimCountry_SecurityDemo];\r\n",
                "REVERT\r\n",
                "\r\n",
                "\r\n",
                "3_~"
            ],
            "metadata": {
                "language": "sql",
                "azdata_cell_guid": "06d56ec7-e130-4e93-8e0a-6fa1806081ad"
            },
            "outputs": [],
            "execution_count": null
        }
    ]
}