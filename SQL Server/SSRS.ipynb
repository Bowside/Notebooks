{
    "metadata": {
        "kernelspec": {
            "name": "SQL",
            "display_name": "SQL",
            "language": "sql"
        },
        "language_info": {
            "name": "sql",
            "version": ""
        }
    },
    "nbformat_minor": 2,
    "nbformat": 4,
    "cells": [
        {
            "cell_type": "markdown",
            "source": [
                "List all SSRS Report data sources"
            ],
            "metadata": {
                "azdata_cell_guid": "1022ee06-0d5e-4a8b-a07e-c9a5f3fc015b"
            },
            "attachments": {}
        },
        {
            "cell_type": "code",
            "source": [
                "WITH XMLNAMESPACES \r\n",
                "( DEFAULT \r\n",
                "  'http://schemas.microsoft.com/sqlserver/reporting/2010/01/reportdefinition'\r\n",
                ", 'http://schemas.microsoft.com/SQLServer/reporting/reportdesigner' AS ReportDefinition )\r\n",
                "SELECT  \r\n",
                "CATDATA.ItemID AS ReportId\r\n",
                ",CATDATA.Name AS ReportName\r\n",
                ",CATDATA.Path AS ReportPathLocation\r\n",
                ",xmlcolumn.value('(@Name)[1]', 'VARCHAR(250)') AS DataSetName  \r\n",
                ",xmlcolumn.value('(Query/DataSourceName)[1]','VARCHAR(250)') AS DataSoureName \r\n",
                ",xmlcolumn.value('(Query/CommandText)[1]','VARCHAR(2500)') AS CommandText\r\n",
                "FROM (  \r\n",
                "\tSELECT C.Name\r\n",
                "\t,c.ItemID\r\n",
                "\t,c.Path\r\n",
                "\t,CONVERT(XML,CONVERT(VARBINARY(MAX),C.Content)) AS reportXML\r\n",
                "\tFROM  ReportServer.dbo.Catalog C\r\n",
                "\tWHERE  C.Content is not null\r\n",
                "\tAND  C.Type = 2\r\n",
                "\t) CATDATA\r\n",
                "CROSS APPLY reportXML.nodes('/Report/DataSets/DataSet') xmltable ( xmlcolumn )\r\n",
                "ORDER BY CATDATA.Name\r\n",
                "\r\n",
                "UNION\r\n",
                "\r\n",
                "WITH XMLNAMESPACES\r\n",
                "( DEFAULT \r\n",
                "  'http://schemas.microsoft.com/sqlserver/reporting/2005/01/reportdefinition'\r\n",
                ", 'http://schemas.microsoft.com/SQLServer/reporting/reportdesigner' AS ReportDefinition )\r\n",
                "SELECT  \r\n",
                "CATDATA.ItemID AS ReportId\r\n",
                ",CATDATA.Name AS ReportName\r\n",
                ",CATDATA.Path AS ReportPathLocation\r\n",
                ",xmlcolumn.value('(@Name)[1]', 'VARCHAR(250)') AS DataSetName  \r\n",
                ",xmlcolumn.value('(Query/DataSourceName)[1]','VARCHAR(250)') AS DataSoureName \r\n",
                ",xmlcolumn.value('(Query/CommandText)[1]','VARCHAR(2500)') AS CommandText\r\n",
                "FROM (  \r\n",
                "\tSELECT C.ItemId, C.Name\r\n",
                "\t,c.Path\r\n",
                "\t,CONVERT(XML,CONVERT(VARBINARY(MAX),C.Content)) AS reportXML\r\n",
                "\tFROM  ReportServer.dbo.Catalog C\r\n",
                "\tWHERE  C.Content is not null\r\n",
                "\tAND  C.Type = 2\r\n",
                "\t) CATDATA\r\n",
                "CROSS APPLY reportXML.nodes('/Report/DataSets/DataSet') xmltable ( xmlcolumn )\r\n",
                "ORDER BY CATDATA.Name\r\n",
                "\r\n",
                "UNION\r\n",
                "\r\n",
                "WITH XMLNAMESPACES\r\n",
                "( DEFAULT \r\n",
                "  'http://schemas.microsoft.com/sqlserver/reporting/2008/01/reportdefinition'\r\n",
                ", 'http://schemas.microsoft.com/SQLServer/reporting/reportdesigner' AS ReportDefinition )\r\n",
                "SELECT  \r\n",
                "CATDATA.ItemID AS ReportId\r\n",
                ",CATDATA.Name AS ReportName\r\n",
                ",CATDATA.Path AS ReportPathLocation\r\n",
                ",xmlcolumn.value('(@Name)[1]', 'VARCHAR(250)') AS DataSetName  \r\n",
                ",xmlcolumn.value('(Query/DataSourceName)[1]','VARCHAR(250)') AS DataSoureName \r\n",
                ",xmlcolumn.value('(Query/CommandText)[1]','VARCHAR(2500)') AS CommandText\r\n",
                "FROM (  \r\n",
                "\tSELECT C.ItemId, C.Name\r\n",
                "\t,c.Path\r\n",
                "\t,CONVERT(XML,CONVERT(VARBINARY(MAX),C.Content)) AS reportXML\r\n",
                "\tFROM  ReportServer.dbo.Catalog C\r\n",
                "\tWHERE  C.Content is not null\r\n",
                "\tAND  C.Type = 2\r\n",
                "\t) CATDATA\r\n",
                "CROSS APPLY reportXML.nodes('/Report/DataSets/DataSet') xmltable ( xmlcolumn )\r\n",
                "ORDER BY CATDATA.Name"
            ],
            "metadata": {
                "azdata_cell_guid": "3aa8cacc-ea46-43eb-8636-6f34de52ed4c",
                "language": "sql"
            },
            "outputs": [],
            "execution_count": null
        }
    ]
}